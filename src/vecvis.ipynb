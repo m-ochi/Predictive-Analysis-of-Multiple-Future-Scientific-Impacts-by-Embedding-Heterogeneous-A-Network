{
 "cells": [
  {
   "cell_type": "code",
   "execution_count": 15,
   "metadata": {},
   "outputs": [],
   "source": [
    "#%%capture output\n",
    "import umap\n",
    "from scipy.sparse.csgraph import connected_components\n",
    "import numpy as np"
   ]
  },
  {
   "cell_type": "code",
   "execution_count": null,
   "metadata": {},
   "outputs": [],
   "source": []
  },
  {
   "cell_type": "code",
   "execution_count": 16,
   "metadata": {},
   "outputs": [],
   "source": [
    "import matplotlib.pyplot as plt\n",
    "import seaborn as sns\n",
    "import csv"
   ]
  },
  {
   "cell_type": "code",
   "execution_count": 17,
   "metadata": {},
   "outputs": [],
   "source": [
    "def readNormVectorFile(vec_file, delimiter=' '):\n",
    "    nodes = []\n",
    "    vecs = []\n",
    "    with open(vec_file, 'r') as f:\n",
    "        reader = csv.reader(f, delimiter=delimiter)\n",
    "        for i, row in enumerate(reader):\n",
    "            if i == 0:\n",
    "                # header line\n",
    "                h_row = row\n",
    "                continue\n",
    "            else:\n",
    "                node = row[0]\n",
    "                vec = row[1:-1]\n",
    "                nodes.append(node)\n",
    "                vecs.append(vec)\n",
    "            pass\n",
    "    return nodes, np.array(vecs,dtype=float)"
   ]
  },
  {
   "cell_type": "code",
   "execution_count": 18,
   "metadata": {},
   "outputs": [],
   "source": [
    "vecfile=\"../res01sample_linkprd_new_sel_normalized/non_allotherpp_vec_0_2st_3G_0.05_wo_norm_until2013.txt\""
   ]
  },
  {
   "cell_type": "code",
   "execution_count": null,
   "metadata": {},
   "outputs": [],
   "source": [
    "nodes, vecs = readNormVectorFile(vecfile)"
   ]
  },
  {
   "cell_type": "code",
   "execution_count": null,
   "metadata": {},
   "outputs": [],
   "source": [
    "%time trans = umap.UMAP(n_neighbors=50,n_components=2, random_state=42).fit(vecs)"
   ]
  },
  {
   "cell_type": "code",
   "execution_count": null,
   "metadata": {},
   "outputs": [],
   "source": [
    "trans.embedding_.shape\n",
    "np.save(\"umap_res.npy\",trans.embedding_)\n",
    "embedding = trans.embedding_"
   ]
  },
  {
   "cell_type": "code",
   "execution_count": null,
   "metadata": {},
   "outputs": [],
   "source": [
    "embedding = np.load(\"umap_res.npy\")\n",
    "embedding.shape"
   ]
  },
  {
   "cell_type": "code",
   "execution_count": null,
   "metadata": {},
   "outputs": [],
   "source": [
    "import sklearn.cluster as skc"
   ]
  },
  {
   "cell_type": "code",
   "execution_count": null,
   "metadata": {},
   "outputs": [],
   "source": [
    "n_clusters = 20\n",
    "kmeans = skc.MiniBatchKMeans(\n",
    "    n_clusters=n_clusters,\n",
    "    max_iter=300,\n",
    "    batch_size=1000,\n",
    "    n_init=10,\n",
    "    random_state=0\n",
    ").fit(vecs)"
   ]
  },
  {
   "cell_type": "code",
   "execution_count": null,
   "metadata": {},
   "outputs": [],
   "source": [
    "authorfile = \"../../scopus_xml_scraper/csv01/authors.csv\"\n",
    "institutionfile = \"../../scopus_xml_scraper/csv01/institutions.csv\"\n",
    "journalfile = \"../../scopus_xml_scraper/csv01/journals.csv\"\n",
    "import collections as cl"
   ]
  },
  {
   "cell_type": "code",
   "execution_count": null,
   "metadata": {},
   "outputs": [],
   "source": [
    "def readAuthorCSV(a_file):\n",
    "    auDic = cl.defaultdict(str)\n",
    "    with open(a_file, 'r') as f:\n",
    "         reader = csv.reader(f)\n",
    "         for row in reader:\n",
    "             aid = row[0]\n",
    "             name = ' '.join(row[1:])\n",
    "             b_name = auDic[aid]\n",
    "             if len(name) > len(b_name):\n",
    "                 auDic[aid] = name\n",
    "\n",
    "    return auDic\n",
    "\n",
    "def readInstitutionCSV(a_file):\n",
    "    inDic = cl.defaultdict(str)\n",
    "    with open(a_file, 'r') as f:\n",
    "         reader = csv.reader(f)\n",
    "         for row in reader:\n",
    "             affid = row[0]\n",
    "             name = row[1]\n",
    "             b_name = inDic[affid]\n",
    "             if len(name) > len(b_name):\n",
    "                 inDic[affid] = name\n",
    "\n",
    "    return inDic\n",
    "\n",
    "def readJournalCSV(a_file):\n",
    "    jnDic = cl.defaultdict(str)\n",
    "    with open(a_file, 'r') as f:\n",
    "         reader = csv.reader(f)\n",
    "         for row in reader:\n",
    "             jid = row[0]\n",
    "             name = row[1]\n",
    "             b_name = jnDic[jid]\n",
    "             if len(name) > len(b_name):\n",
    "                 jnDic[jid] = name\n",
    "\n",
    "    return jnDic"
   ]
  },
  {
   "cell_type": "code",
   "execution_count": null,
   "metadata": {},
   "outputs": [],
   "source": [
    "auDic = readAuthorCSV(authorfile)\n",
    "inDic = readInstitutionCSV(institutionfile)\n",
    "jnDic = readJournalCSV(journalfile)"
   ]
  },
  {
   "cell_type": "code",
   "execution_count": null,
   "metadata": {},
   "outputs": [],
   "source": [
    "list(auDic.values())[0:10]"
   ]
  },
  {
   "cell_type": "code",
   "execution_count": null,
   "metadata": {},
   "outputs": [],
   "source": [
    "authors = [\n",
    "    \"35463345800\",\n",
    "    \"35461776200\",\n",
    "    \"7102645896\",\n",
    "    \"35334024600\",\n",
    "    \"35463772200\",\n",
    "    \"55701772900\",\n",
    "    \"7005851690\",\n",
    "    \"55490640900\",\n",
    "    \"7003763676\",\n",
    "    \"7006192717\",\n",
    "          ]\n",
    "institutions = [\n",
    "    \"60029241\",\n",
    "\"60025038\",\n",
    "\"60012708\",\n",
    "\"60031101\",\n",
    "\"60002746\",\n",
    "\"60025778\",\n",
    "\"60007174\",\n",
    "\"60005429\",\n",
    "\"60025272\",\n",
    "\"60022195\",\n",
    "]\n",
    "journals = [\n",
    "    \"23340\",\n",
    "\"17854\",\n",
    "\"9500153997\",\n",
    "\"22687\",\n",
    "\"26396\",\n",
    "\"21926\",\n",
    "\"24769\",\n",
    "\"25896\",\n",
    "\"22064\",\n",
    "\"23571\",\n",
    "]"
   ]
  },
  {
   "cell_type": "code",
   "execution_count": null,
   "metadata": {},
   "outputs": [],
   "source": [
    "fig = plt.figure(figsize=(20,20),dpi=200)\n",
    "plt.scatter(embedding[:,0], embedding[:,1],s=1,c=kmeans.labels_,alpha=0.2,marker='.')\n",
    "plt.title(\"This is a title\")\n",
    "plt.xlabel(\"x axis\")\n",
    "plt.ylabel(\"y axis\")\n",
    "#for auid in authors:\n",
    "#    name = auDic[auid]\n",
    "#    print(name)\n",
    "#    idx = nodes.index(auid)\n",
    "#    plt.annotate(name,xy=(embedding[idx,0],embedding[idx,1]),size=20)\n",
    "\n",
    "for inid in institutions:\n",
    "    name = inDic[inid]\n",
    "    shortname = ','.join(list(name.split(', '))[-1:])\n",
    "    print(shortname)\n",
    "    idx = nodes.index(inid)\n",
    "    plt.annotate(shortname,xy=(embedding[idx,0],embedding[idx,1]),size=20)\n",
    "    \n",
    "for jnid in journals:\n",
    "    name = jnDic[jnid]\n",
    "    print(name)\n",
    "    idx = nodes.index(jnid)\n",
    "    plt.annotate(name,xy=(embedding[idx,0],embedding[idx,1]),size=20)\n",
    "\n",
    "#plt.grid(True)\n",
    "fig.savefig('embvis.pdf')"
   ]
  },
  {
   "cell_type": "code",
   "execution_count": null,
   "metadata": {},
   "outputs": [],
   "source": [
    "fig.savefig('embvis.png')"
   ]
  },
  {
   "cell_type": "code",
   "execution_count": null,
   "metadata": {},
   "outputs": [],
   "source": [
    "\"35463345800\" in nodes"
   ]
  },
  {
   "cell_type": "code",
   "execution_count": null,
   "metadata": {},
   "outputs": [],
   "source": [
    "sns.scatterplot(x=\"\", y=\"\", data=trans.embedding_)"
   ]
  },
  {
   "cell_type": "code",
   "execution_count": null,
   "metadata": {},
   "outputs": [],
   "source": [
    "name='a, b, c'\n",
    "','.join(list(name.split(', '))[-2:])"
   ]
  },
  {
   "cell_type": "code",
   "execution_count": null,
   "metadata": {},
   "outputs": [],
   "source": []
  }
 ],
 "metadata": {
  "kernelspec": {
   "display_name": "Python 3",
   "language": "python",
   "name": "python3"
  },
  "language_info": {
   "codemirror_mode": {
    "name": "ipython",
    "version": 3
   },
   "file_extension": ".py",
   "mimetype": "text/x-python",
   "name": "python",
   "nbconvert_exporter": "python",
   "pygments_lexer": "ipython3",
   "version": "3.6.8"
  }
 },
 "nbformat": 4,
 "nbformat_minor": 2
}
