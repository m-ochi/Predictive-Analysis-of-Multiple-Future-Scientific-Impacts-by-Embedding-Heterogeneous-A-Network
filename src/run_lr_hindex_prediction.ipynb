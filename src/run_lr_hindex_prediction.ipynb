{
 "cells": [
  {
   "cell_type": "markdown",
   "metadata": {},
   "source": [
    "```\n",
    "Created on Jan 23, 2019\n",
    "将来的なh-index予測を行う\n",
    "h-indexの定義\n",
    "h-index(f) = max_i min (f(i),i)\n",
    "\n",
    "@author: ochi\n",
    "```"
   ]
  },
  {
   "cell_type": "code",
   "execution_count": 1,
   "metadata": {},
   "outputs": [],
   "source": [
    "import collections as cl\n",
    "import codecs\n",
    "import sys\n",
    "import matplotlib\n",
    "\n",
    "import matplotlib.pyplot as plt\n",
    "import sklearn.model_selection as sms\n",
    "import os\n",
    "import shutil\n",
    "import csv\n",
    "import random\n",
    "import numpy as np\n",
    "import sklearn.linear_model as slm\n",
    "import sklearn.metrics as smt\n",
    "import sklearn.metrics.pairwise as smp\n",
    "import sklearn.neighbors as sn\n",
    "import scipy.stats as ss\n",
    "import seaborn as sns\n"
   ]
  },
  {
   "cell_type": "code",
   "execution_count": 2,
   "metadata": {},
   "outputs": [],
   "source": [
    "def decidePth(yDic, probDic, pths=[i/100.0 for i in range(1000)]):\n",
    "    pthDic = {}\n",
    "    for label in probDic.keys():\n",
    "        pthfscores = []\n",
    "        for pth in pths:\n",
    "            plabels = []\n",
    "            for prob in probDic[label]:\n",
    "                if prob >= pth:\n",
    "                    plabels.append(1)\n",
    "                else:\n",
    "                    plabels.append(0)\n",
    "\n",
    "            (precision, recall, fscore, support) = smt.precision_recall_fscore_support(yDic[label], plabels, average=\"binary\")\n",
    "            pthfscores.append((pth,fscore))\n",
    "\n",
    "        pthfscores.sort(key=lambda x:-x[1])\n",
    "        \n",
    "        best_pth = pthfscores[0][0]\n",
    "        best_fscore = pthfscores[0][1]\n",
    "        print(\"%s:best pth=%.3f,fscore=%.3f\"%(label,best_pth,best_fscore))\n",
    "        pthDic[label] = best_pth\n",
    "\n",
    "    return pthDic"
   ]
  },
  {
   "cell_type": "code",
   "execution_count": 3,
   "metadata": {},
   "outputs": [],
   "source": [
    "def drawPRCMulti(yDic,probDic):\n",
    "\n",
    "    num_c = 24\n",
    "    linestyles = ['-','--','-.',':']\n",
    "    palette = sns.color_palette(\"colorblind\",num_c)\n",
    "    fig = plt.figure(figsize=(8,8))\n",
    "    ax = fig.add_subplot(111)\n",
    "    lw = 2\n",
    "\n",
    "    for i, name in enumerate(probDic.keys()):\n",
    "#        print(name)\n",
    "        probs = probDic[name]\n",
    "        y     = yDic[name]\n",
    "#        print(y)\n",
    "#        print(set(probs))\n",
    "#        precision, recall, thresholds = smt.precision_recall_curve(y,probs)\n",
    "#        ax.step(recall, precision, color=palette[i%num_c], alpha=0.8, where='post', label=name, lw=lw*0.5, linestyle=linestyles[i%len(linestyles)])\n",
    "\n",
    "        if len(set(probs)) > 2:\n",
    "            precision, recall, thresholds = smt.precision_recall_curve(y,probs)\n",
    "            ax.step(recall, precision, color=palette[i%num_c], alpha=0.8, where='post', label=name, lw=lw*0.5, linestyle=linestyles[i%len(linestyles)])\n",
    "        else:\n",
    "            precision = smt.precision_score(y,probs)\n",
    "            recall    = smt.recall_score(y,probs)\n",
    "            ax.step(recall, precision, 'x', color=palette[i%num_c], alpha=0.8, where='post', label=name, lw=lw*0.5, linestyle=linestyles[i%len(linestyles)])\n",
    "\n",
    "        print(name)\n",
    "        print(\"precision\")\n",
    "        print(precision)\n",
    "        print(\"recall\")\n",
    "        print(recall)\n",
    "\n",
    "    ax.set_xlim([0.0, 1.0])\n",
    "    ax.set_ylim([0.0, 1.05])\n",
    "    ax.set_xlabel('Recall Rate')\n",
    "    ax.set_ylabel('Precision Rate')\n",
    "    ax.set_title('h-index Prediction Precision-Recall Results')\n",
    "    handles, labels = ax.get_legend_handles_labels()\n",
    "    lgd = ax.legend(handles, labels, loc='upper left', bbox_to_anchor=(1.04,1.0))\n",
    "\n",
    "    fig.savefig(\"hindex_prediction_precision_recall_curve_many_results.pdf\", dpi=100, bbox_extra_artists=(lgd,), bbox_inches='tight')\n",
    "#    fig.clf()\n",
    "#    plt.close()\n",
    "\n",
    "    return"
   ]
  },
  {
   "cell_type": "code",
   "execution_count": 4,
   "metadata": {},
   "outputs": [],
   "source": [
    "def readVectorFilesJoint(vec_files, delimiter=' '):\n",
    "    vecDics = []\n",
    "    set_nodes = set([])\n",
    "    for vec_file in vec_files:\n",
    "        vecDic = readVectorFile(vec_file)\n",
    "        vecDics.append(vecDic)\n",
    "        if len(set_nodes) == 0:\n",
    "            set_nodes = set(vecDic.keys())\n",
    "        else:\n",
    "            set_nodes &= set(vecDic.keys())\n",
    "\n",
    "    m_vecDic = {}\n",
    "    for node in list(set_nodes):\n",
    "        new_vec = []\n",
    "        for vecDic in vecDics:\n",
    "            vec = vecDic[node]\n",
    "            new_vec = np.append(new_vec,vec)\n",
    "\n",
    "        m_vecDic[node] = new_vec\n",
    "\n",
    "    return m_vecDic\n"
   ]
  },
  {
   "cell_type": "code",
   "execution_count": 5,
   "metadata": {},
   "outputs": [],
   "source": [
    "def readVectorFile(vec_file, delimiter=' '):\n",
    "    vecDic = {}\n",
    "    with open(vec_file, 'r') as f:\n",
    "        reader = csv.reader(f, delimiter=delimiter)\n",
    "        for i, row in enumerate(reader):\n",
    "            if i == 0:\n",
    "                # header line\n",
    "                continue\n",
    "            else:\n",
    "                node = row[0]\n",
    "                vec = np.array(row[1:-1],dtype=np.float)\n",
    "                vecDic[node] = vec\n",
    "            pass\n",
    "    return vecDic"
   ]
  },
  {
   "cell_type": "code",
   "execution_count": 6,
   "metadata": {},
   "outputs": [],
   "source": [
    "cv=0\n",
    "order='1'\n",
    "itr='3000'\n",
    "rho='0.05'\n",
    "th=\"0.001000\"\n",
    "\n",
    "train_file   = \"../../scopus_xml_scraper/csv01/top%sornot_hindex2013.csv\"%(th)\n",
    "test_file    = \"../../scopus_xml_scraper/csv01/top%sornot_hindex2016.csv\"%(th)\n",
    "compare_results_file    = \"../../scopus_xml_scraper/csv01/top%sornot_hindex2013.csv\"%(th)\n",
    "\n",
    "selectedauthors_file = \"../../scopus_xml_scraper/csv01/select10authors_hindex2009.csv\"\n",
    "\n",
    "vectorfileDic = {\n",
    "    \"non_2009\":\"../res01sample_linkprd_new_sel1_normalized/non_all_vec_%s_%sst_%s_%s_wo_norm_until2009.txt\"%(cv,order,itr,rho),\n",
    "    \"non_2013\":\"../res01sample_linkprd_new_sel1_normalized/non_all_vec_%s_%sst_%s_%s_wo_norm_until2013.txt\"%(cv,order,itr,rho),\n",
    "}\n",
    "        \n"
   ]
  },
  {
   "cell_type": "code",
   "execution_count": null,
   "metadata": {},
   "outputs": [],
   "source": []
  },
  {
   "cell_type": "code",
   "execution_count": 7,
   "metadata": {},
   "outputs": [],
   "source": [
    "def makeMTXData(labelDic,vecDic,selected_authors,ref_aids=[]):\n",
    "    xs = []\n",
    "    ys = []\n",
    "    vec_keys = set(vecDic.keys())\n",
    "   \n",
    "    selected_aids = []\n",
    "    if len(ref_aids) == 0:\n",
    "        aids = list(set(vecDic.keys())&set(labelDic.keys()))\n",
    "    else:\n",
    "        aids = ref_aids\n",
    "\n",
    "    for i, aid in enumerate(aids):\n",
    "        if aid not in vec_keys:\n",
    "            continue\n",
    "\n",
    "        selected_aids.append(aid)\n",
    "\n",
    "        au_vec = vecDic[aid]\n",
    "        distances = []\n",
    "        label = labelDic[aid]\n",
    "        for t_id in selected_authors:\n",
    "            t_vec = vecDic[t_id]\n",
    "#            distance = smp.cosine_distances([au_vec],[t_vec])[0,0]\n",
    "            distance = smp.cosine_similarity([au_vec],[t_vec])[0,0]\n",
    "            distances.append(distance)\n",
    "\n",
    "#        a_x = distances\n",
    "        # 近い順に並べてみる\n",
    "        distances = sorted(distances, key=lambda x:-x)\n",
    "        distances.append(float(label)) #特徴量に訓練させるラベルをまさかの追加\n",
    "        a_x = distances\n",
    "#        a_x = au_vec\n",
    "        xs.append(a_x)\n",
    "        y = int(labelDic[aid])\n",
    "        ys.append(y)\n",
    "\n",
    "    print(\"cos sim sorted\")\n",
    "    print(set(ys))\n",
    "    y = np.array(ys, dtype=np.int).reshape((len(ys),1))\n",
    "    print(y.shape)\n",
    "    x = np.array(xs, dtype=np.float)\n",
    "    print(x.shape)\n",
    "    return x, y, selected_aids"
   ]
  },
  {
   "cell_type": "code",
   "execution_count": 8,
   "metadata": {},
   "outputs": [],
   "source": [
    "def calc_distances(s_vec,t_vec):\n",
    "    distances = []\n",
    "    x = [s_vec,t_vec]\n",
    "    a_dist = calcADist(x,\"euclidean\")\n",
    "    distances.append(a_dist)\n",
    "    a_dist = calcADist(x,\"manhattan\")\n",
    "    distances.append(a_dist)\n",
    "    a_dist = calcADist(x,\"chebyshev\")\n",
    "    distances.append(a_dist)\n",
    "#    a_dist = calcADist(x,\"minkowski\")\n",
    "#    distances.append(a_dist)\n",
    "#    a_dist = calcADist(x,\"wminkowski\")\n",
    "#    distances.append(a_dist)\n",
    "#    a_dist = calcADist(x,\"seuclidean\")\n",
    "#    distances.append(a_dist)\n",
    "#    a_dist = calcADist(x,\"mahalanobis\")\n",
    "#    distances.append(a_dist)\n",
    "    return distances"
   ]
  },
  {
   "cell_type": "code",
   "execution_count": 9,
   "metadata": {},
   "outputs": [],
   "source": [
    "def calcADist(x,mode=\"euclidean\"):\n",
    "    dist = sn.DistanceMetric.get_metric(mode)\n",
    "    a_dist = dist.pairwise(x)[0,1]\n",
    "    return a_dist"
   ]
  },
  {
   "cell_type": "code",
   "execution_count": 10,
   "metadata": {},
   "outputs": [],
   "source": [
    "def readLabeledFile(afile, delimiter=','):\n",
    "    labelDic = {}\n",
    "    with open(afile, 'r') as f:\n",
    "        reader = csv.reader(f, delimiter=delimiter)\n",
    "        for i, row in enumerate(reader):\n",
    "            aid = row[0]\n",
    "            label = row[1]\n",
    "            labelDic[aid] = label\n",
    "\n",
    "    return labelDic"
   ]
  },
  {
   "cell_type": "code",
   "execution_count": 11,
   "metadata": {},
   "outputs": [],
   "source": [
    "def readSelectedAuthorsFile(filepath,delimiter=','):\n",
    "    authors = []\n",
    "    with open(filepath, 'r') as f:\n",
    "        reader = csv.reader(f, delimiter=delimiter)\n",
    "        for i, row in enumerate(reader):\n",
    "            aid = row[0]\n",
    "            authors.append(aid)\n",
    "\n",
    "    return authors"
   ]
  },
  {
   "cell_type": "code",
   "execution_count": 12,
   "metadata": {},
   "outputs": [],
   "source": [
    "cv=0\n",
    "order='1'\n",
    "itr='3000'\n",
    "rho='0.05'\n",
    "th=\"0.001000\"\n",
    "\n",
    "train_file   = \"../../scopus_xml_scraper/csv01/top%sornot_hindex2013.csv\"%(th)\n",
    "test_file    = \"../../scopus_xml_scraper/csv01/top%sornot_hindex2016.csv\"%(th)\n",
    "compare_results_file    = \"../../scopus_xml_scraper/csv01/top%sornot_hindex2013.csv\"%(th)\n",
    "\n",
    "selectedauthors_file = \"../../scopus_xml_scraper/csv01/select10authors_hindex2009.csv\"\n",
    "\n",
    "vectorfileDic = {\n",
    "    \"non_2009\":\"../res01sample_linkprd_new_sel1_normalized/non_all_vec_%s_%sst_%s_%s_wo_norm_until2009.txt\"%(cv,order,itr,rho),\n",
    "    \"non_2013\":\"../res01sample_linkprd_new_sel1_normalized/non_all_vec_%s_%sst_%s_%s_wo_norm_until2013.txt\"%(cv,order,itr,rho),\n",
    "}\n",
    "        \n"
   ]
  },
  {
   "cell_type": "code",
   "execution_count": 13,
   "metadata": {},
   "outputs": [],
   "source": [
    "selected_authors = readSelectedAuthorsFile(selectedauthors_file)\n",
    "train_labelDic = readLabeledFile(train_file)\n",
    "test_labelDic  = readLabeledFile(test_file)\n",
    "compare_labelDic = readLabeledFile(compare_results_file)\n"
   ]
  },
  {
   "cell_type": "code",
   "execution_count": 14,
   "metadata": {},
   "outputs": [
    {
     "name": "stdout",
     "output_type": "stream",
     "text": [
      "complete getting train vectors\n"
     ]
    }
   ],
   "source": [
    "\n",
    "test_probDic={}\n",
    "test_yDic={}\n",
    "train_vec_file = vectorfileDic[\"non_2009\"]\n",
    "train_vecDic = readVectorFile(train_vec_file)\n",
    "\n",
    "print(\"complete getting train vectors\")"
   ]
  },
  {
   "cell_type": "code",
   "execution_count": 15,
   "metadata": {},
   "outputs": [
    {
     "name": "stdout",
     "output_type": "stream",
     "text": [
      "87012\n",
      "3179042\n",
      "complete getting test vectors\n"
     ]
    }
   ],
   "source": [
    "test_vec_file = vectorfileDic[\"non_2013\"]\n",
    "test_vecDic = readVectorFile(test_vec_file)\n",
    "\n",
    "train_aids = list(set(train_vecDic.keys())&set(train_labelDic.keys()))\n",
    "print(len(train_aids))\n",
    "print(len(list(set(test_vecDic.keys()))))\n",
    "test_aids  = list(set(test_vecDic.keys()) & set(test_labelDic.keys()) & set(compare_labelDic.keys()))\n",
    "selected_authors = list(set(train_aids)&set(test_aids)&set(selected_authors))\n",
    "\n",
    "print(\"complete getting test vectors\")\n"
   ]
  },
  {
   "cell_type": "code",
   "execution_count": 16,
   "metadata": {},
   "outputs": [
    {
     "name": "stdout",
     "output_type": "stream",
     "text": [
      "cos sim sorted\n",
      "{0, 1}\n",
      "(87012, 1)\n",
      "(87012, 11)\n",
      "complete making train_xy\n"
     ]
    }
   ],
   "source": [
    "train_x, train_y, train_aids =  makeMTXData(train_labelDic,train_vecDic,selected_authors,train_aids)\n",
    "print(\"complete making train_xy\")\n"
   ]
  },
  {
   "cell_type": "code",
   "execution_count": 17,
   "metadata": {},
   "outputs": [],
   "source": [
    "def getCompareResults(aids,compare_results_file):\n",
    "    compare_labelDic = readLabeledFile(compare_results_file)\n",
    "    test_compare_res = []\n",
    "    for aid in aids:\n",
    "        label = int(compare_labelDic[aid])\n",
    "#        if label == 0:\n",
    "#            label = -0.1\n",
    "#        elif label == 1:\n",
    "#            label = 1.1\n",
    "        test_compare_res.append(label)\n",
    "\n",
    "    return test_compare_res"
   ]
  },
  {
   "cell_type": "code",
   "execution_count": 18,
   "metadata": {},
   "outputs": [],
   "source": [
    "test_compare_res = getCompareResults(test_aids, compare_results_file)\n",
    "comp_labelDic = {}\n",
    "for i,aid in enumerate(test_aids):\n",
    "    comp_labelDic[aid] = test_compare_res[i]\n"
   ]
  },
  {
   "cell_type": "code",
   "execution_count": 19,
   "metadata": {},
   "outputs": [
    {
     "name": "stdout",
     "output_type": "stream",
     "text": [
      "cos sim sorted\n",
      "{0, 1}\n",
      "(142000, 1)\n",
      "(142000, 11)\n",
      "complete making test_xy\n"
     ]
    }
   ],
   "source": [
    "test_x,  compare_y,  test_aids  =  makeMTXData(compare_labelDic,test_vecDic,selected_authors,test_aids)\n",
    "print(\"complete making test_xy\")\n",
    "\n",
    "tys = []\n",
    "for aid in test_aids:\n",
    "    l = test_labelDic[aid]\n",
    "    tys.append(l)\n",
    "    \n",
    "test_y = np.array(tys, dtype=np.int).reshape((len(tys),1))\n"
   ]
  },
  {
   "cell_type": "code",
   "execution_count": 26,
   "metadata": {},
   "outputs": [
    {
     "name": "stdout",
     "output_type": "stream",
     "text": [
      "142000\n"
     ]
    }
   ],
   "source": [
    "print(len(test_aids))"
   ]
  },
  {
   "cell_type": "code",
   "execution_count": 21,
   "metadata": {},
   "outputs": [
    {
     "name": "stderr",
     "output_type": "stream",
     "text": [
      "/home/jovyan/.local/lib/python3.6/site-packages/sklearn/linear_model/logistic.py:432: FutureWarning: Default solver will be changed to 'lbfgs' in 0.22. Specify a solver to silence this warning.\n",
      "  FutureWarning)\n",
      "/home/jovyan/.local/lib/python3.6/site-packages/sklearn/utils/validation.py:724: DataConversionWarning: A column-vector y was passed when a 1d array was expected. Please change the shape of y to (n_samples, ), for example using ravel().\n",
      "  y = column_or_1d(y, warn=True)\n"
     ]
    },
    {
     "name": "stdout",
     "output_type": "stream",
     "text": [
      "complete lr model fit\n",
      "lr model weightsk\n",
      "[ 0.57722177  0.46561461  0.45455191  0.4567382   0.50011677  0.40014516\n",
      "  0.46727519  0.52775805  0.61080594  0.7118756  11.1474177 ]\n",
      "complete lr model predict\n"
     ]
    }
   ],
   "source": [
    "model = slm.LogisticRegression(penalty='l2',tol=1e-6,C=1.0,warm_start=True)\n",
    "model.fit(train_x, train_y)\n",
    "print(\"complete lr model fit\")\n",
    "print(\"lr model weightsk\")\n",
    "print(model.coef_[0,:])\n",
    "\n",
    "test_probs = model.predict_proba(test_x)[:,1]\n",
    "\n",
    "#for i, p in enumerate(test_probs):\n",
    "#    print(\"%s,prob:%f,y:%d\"%(test_aids[i],p,test_y[i][0]))\n",
    "        \n",
    "print(\"complete lr model predict\")"
   ]
  },
  {
   "cell_type": "code",
   "execution_count": 22,
   "metadata": {},
   "outputs": [
    {
     "name": "stdout",
     "output_type": "stream",
     "text": [
      "Complete: non_1st2013 LogisticRegression\n"
     ]
    }
   ],
   "source": [
    "import random\n",
    "\n",
    "\n",
    "test_compare_res = getCompareResults(test_aids, compare_results_file)\n",
    "test_compare_res1 = []\n",
    "for res in test_compare_res:\n",
    "    if res == 0:\n",
    "        n_res = 0.25\n",
    "    else:\n",
    "        n_res = 0.75\n",
    "    n_res += (random.random()-0.5)/2.0\n",
    "    test_compare_res1.append(n_res)\n",
    "\n",
    "test_probDic[\"non_2013\"] = test_probs\n",
    "\n",
    "test_probDic[\"hindex2013\"] = [float(ele) for ele in test_compare_res1]\n",
    "#test_probDic[\"random\"] = [random.random() for i in range(test_y.shape[0])]\n",
    "test_yDic[\"non_2013\"]    = test_y\n",
    "#test_yDic[\"random\"]    = test_y\n",
    "test_yDic[\"hindex2013\"]    = test_y\n",
    "\n",
    "print(\"Complete: %s LogisticRegression\"%(\"non_1st2013\"))\n"
   ]
  },
  {
   "cell_type": "code",
   "execution_count": 23,
   "metadata": {},
   "outputs": [],
   "source": [
    "def printPRF(yDic,probDic,pths=[i/100.0 for i in range(100)]):\n",
    "    for pth in pths:\n",
    "        for label in probDic.keys():\n",
    "            plabels = []\n",
    "            for prob in probDic[label]:\n",
    "                if prob >= pth:\n",
    "                    plabels.append(1)\n",
    "                else:\n",
    "                    plabels.append(0)\n",
    "\n",
    "            (precision, recall, fscore, support) = smt.precision_recall_fscore_support(yDic[label], plabels, average=\"binary\")\n",
    "            print(\"pth=%.2f,method=%s,%f,%f,%f\"%(pth,label,precision,recall,fscore))\n",
    "\n",
    "    return"
   ]
  },
  {
   "cell_type": "code",
   "execution_count": 27,
   "metadata": {},
   "outputs": [
    {
     "name": "stdout",
     "output_type": "stream",
     "text": [
      "pth=0.00,method=non_2013,0.001810,1.000000,0.003613\n",
      "pth=0.00,method=hindex2013,0.001810,1.000000,0.003613\n",
      "pth=0.01,method=non_2013,0.756972,0.739300,0.748031\n",
      "pth=0.01,method=hindex2013,0.001825,0.988327,0.003643\n",
      "pth=0.02,method=non_2013,0.756972,0.739300,0.748031\n",
      "pth=0.02,method=hindex2013,0.001861,0.988327,0.003716\n",
      "pth=0.03,method=non_2013,0.756972,0.739300,0.748031\n",
      "pth=0.03,method=hindex2013,0.001901,0.988327,0.003795\n",
      "pth=0.04,method=non_2013,0.756972,0.739300,0.748031\n",
      "pth=0.04,method=hindex2013,0.001935,0.984436,0.003862\n",
      "pth=0.05,method=non_2013,0.756972,0.739300,0.748031\n",
      "pth=0.05,method=hindex2013,0.001954,0.972763,0.003901\n",
      "pth=0.06,method=non_2013,0.756972,0.739300,0.748031\n",
      "pth=0.06,method=hindex2013,0.001999,0.972763,0.003989\n",
      "pth=0.07,method=non_2013,0.756972,0.739300,0.748031\n",
      "pth=0.07,method=hindex2013,0.002020,0.961089,0.004031\n",
      "pth=0.08,method=non_2013,0.756972,0.739300,0.748031\n",
      "pth=0.08,method=hindex2013,0.002033,0.945525,0.004058\n",
      "pth=0.09,method=non_2013,0.756972,0.739300,0.748031\n",
      "pth=0.09,method=hindex2013,0.002065,0.937743,0.004121\n",
      "pth=0.10,method=non_2013,0.756972,0.739300,0.748031\n",
      "pth=0.10,method=hindex2013,0.002108,0.933852,0.004206\n",
      "pth=0.11,method=non_2013,0.756972,0.739300,0.748031\n",
      "pth=0.11,method=hindex2013,0.002144,0.926070,0.004278\n",
      "pth=0.12,method=non_2013,0.756972,0.739300,0.748031\n",
      "pth=0.12,method=hindex2013,0.002190,0.922179,0.004369\n",
      "pth=0.13,method=non_2013,0.756972,0.739300,0.748031\n",
      "pth=0.13,method=hindex2013,0.002239,0.918288,0.004467\n",
      "pth=0.14,method=non_2013,0.756972,0.739300,0.748031\n",
      "pth=0.14,method=hindex2013,0.002272,0.906615,0.004532\n",
      "pth=0.15,method=non_2013,0.756972,0.739300,0.748031\n",
      "pth=0.15,method=hindex2013,0.002308,0.894942,0.004604\n",
      "pth=0.16,method=non_2013,0.756972,0.739300,0.748031\n",
      "pth=0.16,method=hindex2013,0.002346,0.883268,0.004679\n",
      "pth=0.17,method=non_2013,0.756972,0.739300,0.748031\n",
      "pth=0.17,method=hindex2013,0.002417,0.883268,0.004821\n",
      "pth=0.18,method=non_2013,0.756972,0.739300,0.748031\n",
      "pth=0.18,method=hindex2013,0.002460,0.871595,0.004906\n",
      "pth=0.19,method=non_2013,0.756972,0.739300,0.748031\n",
      "pth=0.19,method=hindex2013,0.002529,0.867704,0.005043\n",
      "pth=0.20,method=non_2013,0.756972,0.739300,0.748031\n",
      "pth=0.20,method=hindex2013,0.002602,0.863813,0.005188\n",
      "pth=0.21,method=non_2013,0.756972,0.739300,0.748031\n",
      "pth=0.21,method=hindex2013,0.002665,0.856031,0.005314\n",
      "pth=0.22,method=non_2013,0.756972,0.739300,0.748031\n",
      "pth=0.22,method=hindex2013,0.002764,0.856031,0.005510\n",
      "pth=0.23,method=non_2013,0.756972,0.739300,0.748031\n",
      "pth=0.23,method=hindex2013,0.002853,0.852140,0.005687\n",
      "pth=0.24,method=non_2013,0.756972,0.739300,0.748031\n",
      "pth=0.24,method=hindex2013,0.002962,0.852140,0.005903\n",
      "pth=0.25,method=non_2013,0.756972,0.739300,0.748031\n",
      "pth=0.25,method=hindex2013,0.003024,0.836576,0.006026\n",
      "pth=0.26,method=non_2013,0.756972,0.739300,0.748031\n",
      "pth=0.26,method=hindex2013,0.003150,0.836576,0.006276\n",
      "pth=0.27,method=non_2013,0.756972,0.739300,0.748031\n",
      "pth=0.27,method=hindex2013,0.003269,0.832685,0.006512\n",
      "pth=0.28,method=non_2013,0.756972,0.739300,0.748031\n",
      "pth=0.28,method=hindex2013,0.003396,0.828794,0.006765\n",
      "pth=0.29,method=non_2013,0.756972,0.739300,0.748031\n",
      "pth=0.29,method=hindex2013,0.003561,0.828794,0.007091\n",
      "pth=0.30,method=non_2013,0.756972,0.739300,0.748031\n",
      "pth=0.30,method=hindex2013,0.003706,0.821012,0.007378\n",
      "pth=0.31,method=non_2013,0.756972,0.739300,0.748031\n",
      "pth=0.31,method=hindex2013,0.003900,0.821012,0.007763\n",
      "pth=0.32,method=non_2013,0.756972,0.739300,0.748031\n",
      "pth=0.32,method=hindex2013,0.004098,0.817121,0.008155\n",
      "pth=0.33,method=non_2013,0.756972,0.739300,0.748031\n",
      "pth=0.33,method=hindex2013,0.004311,0.813230,0.008577\n",
      "pth=0.34,method=non_2013,0.756972,0.739300,0.748031\n",
      "pth=0.34,method=hindex2013,0.004536,0.805447,0.009021\n",
      "pth=0.35,method=non_2013,0.756972,0.739300,0.748031\n",
      "pth=0.35,method=hindex2013,0.004811,0.801556,0.009565\n",
      "pth=0.36,method=non_2013,0.756972,0.739300,0.748031\n",
      "pth=0.36,method=hindex2013,0.005119,0.797665,0.010172\n",
      "pth=0.37,method=non_2013,0.756972,0.739300,0.748031\n",
      "pth=0.37,method=hindex2013,0.005439,0.785992,0.010803\n",
      "pth=0.38,method=non_2013,0.756972,0.739300,0.748031\n",
      "pth=0.38,method=hindex2013,0.005852,0.782101,0.011616\n",
      "pth=0.39,method=non_2013,0.756972,0.739300,0.748031\n",
      "pth=0.39,method=hindex2013,0.006273,0.770428,0.012444\n",
      "pth=0.40,method=non_2013,0.756972,0.739300,0.748031\n",
      "pth=0.40,method=hindex2013,0.006883,0.770428,0.013643\n",
      "pth=0.41,method=non_2013,0.756972,0.739300,0.748031\n",
      "pth=0.41,method=hindex2013,0.007598,0.766537,0.015047\n",
      "pth=0.42,method=non_2013,0.756972,0.739300,0.748031\n",
      "pth=0.42,method=hindex2013,0.008502,0.762646,0.016816\n",
      "pth=0.43,method=non_2013,0.756972,0.739300,0.748031\n",
      "pth=0.43,method=hindex2013,0.009719,0.762646,0.019194\n",
      "pth=0.44,method=non_2013,0.756972,0.739300,0.748031\n",
      "pth=0.44,method=hindex2013,0.011167,0.754864,0.022008\n",
      "pth=0.45,method=non_2013,0.756972,0.739300,0.748031\n",
      "pth=0.45,method=hindex2013,0.013262,0.750973,0.026063\n",
      "pth=0.46,method=non_2013,0.756972,0.739300,0.748031\n",
      "pth=0.46,method=hindex2013,0.016398,0.747082,0.032091\n",
      "pth=0.47,method=non_2013,0.756972,0.739300,0.748031\n",
      "pth=0.47,method=hindex2013,0.021744,0.743191,0.042252\n",
      "pth=0.48,method=non_2013,0.756972,0.739300,0.748031\n",
      "pth=0.48,method=hindex2013,0.031997,0.739300,0.061340\n",
      "pth=0.49,method=non_2013,0.756972,0.739300,0.748031\n",
      "pth=0.49,method=hindex2013,0.060976,0.739300,0.112659\n",
      "pth=0.50,method=non_2013,0.756972,0.739300,0.748031\n",
      "pth=0.50,method=hindex2013,0.756972,0.739300,0.748031\n",
      "pth=0.51,method=non_2013,0.756972,0.739300,0.748031\n",
      "pth=0.51,method=hindex2013,0.755020,0.731518,0.743083\n",
      "pth=0.52,method=non_2013,0.756972,0.739300,0.748031\n",
      "pth=0.52,method=hindex2013,0.757202,0.715953,0.736000\n",
      "pth=0.53,method=non_2013,0.756972,0.739300,0.748031\n",
      "pth=0.53,method=hindex2013,0.757447,0.692607,0.723577\n",
      "pth=0.54,method=non_2013,0.756972,0.739300,0.748031\n",
      "pth=0.54,method=hindex2013,0.751092,0.669261,0.707819\n",
      "pth=0.55,method=non_2013,0.756972,0.739300,0.748031\n",
      "pth=0.55,method=hindex2013,0.752212,0.661479,0.703934\n",
      "pth=0.56,method=non_2013,0.756972,0.739300,0.748031\n",
      "pth=0.56,method=hindex2013,0.747748,0.645914,0.693111\n",
      "pth=0.57,method=non_2013,0.756972,0.739300,0.748031\n",
      "pth=0.57,method=hindex2013,0.744186,0.622568,0.677966\n",
      "pth=0.58,method=non_2013,0.756972,0.739300,0.748031\n",
      "pth=0.58,method=hindex2013,0.740566,0.610895,0.669510\n",
      "pth=0.59,method=non_2013,0.756972,0.739300,0.748031\n",
      "pth=0.59,method=hindex2013,0.736842,0.599222,0.660944\n",
      "pth=0.60,method=non_2013,0.756972,0.739300,0.748031\n",
      "pth=0.60,method=hindex2013,0.736318,0.575875,0.646288\n",
      "pth=0.61,method=non_2013,0.756972,0.739300,0.748031\n",
      "pth=0.61,method=hindex2013,0.730964,0.560311,0.634361\n",
      "pth=0.62,method=non_2013,0.756972,0.739300,0.748031\n",
      "pth=0.62,method=hindex2013,0.725389,0.544747,0.622222\n",
      "pth=0.63,method=non_2013,0.756972,0.739300,0.748031\n",
      "pth=0.63,method=hindex2013,0.730159,0.536965,0.618834\n",
      "pth=0.64,method=non_2013,0.756972,0.739300,0.748031\n",
      "pth=0.64,method=hindex2013,0.724324,0.521401,0.606335\n",
      "pth=0.65,method=non_2013,0.756972,0.739300,0.748031\n",
      "pth=0.65,method=hindex2013,0.721311,0.513619,0.600000\n",
      "pth=0.66,method=non_2013,0.756972,0.739300,0.748031\n",
      "pth=0.66,method=hindex2013,0.725714,0.494163,0.587963\n",
      "pth=0.67,method=non_2013,0.756972,0.739300,0.748031\n",
      "pth=0.67,method=hindex2013,0.720238,0.470817,0.569412\n",
      "pth=0.68,method=non_2013,0.756972,0.739300,0.748031\n",
      "pth=0.68,method=hindex2013,0.725610,0.463035,0.565321\n",
      "pth=0.69,method=non_2013,0.756972,0.739300,0.748031\n",
      "pth=0.69,method=hindex2013,0.732919,0.459144,0.564593\n",
      "pth=0.70,method=non_2013,0.756972,0.739300,0.748031\n",
      "pth=0.70,method=hindex2013,0.730263,0.431907,0.542787\n",
      "pth=0.71,method=non_2013,0.756972,0.739300,0.748031\n",
      "pth=0.71,method=hindex2013,0.724832,0.420233,0.532020\n",
      "pth=0.72,method=non_2013,0.756972,0.739300,0.748031\n",
      "pth=0.72,method=hindex2013,0.719178,0.408560,0.521092\n",
      "pth=0.73,method=non_2013,0.756972,0.739300,0.748031\n",
      "pth=0.73,method=hindex2013,0.722628,0.385214,0.502538\n",
      "pth=0.74,method=non_2013,0.756972,0.739300,0.748031\n",
      "pth=0.74,method=hindex2013,0.720588,0.381323,0.498728\n",
      "pth=0.75,method=non_2013,0.756972,0.739300,0.748031\n",
      "pth=0.75,method=hindex2013,0.725191,0.369650,0.489691\n",
      "pth=0.76,method=non_2013,0.756972,0.739300,0.748031\n",
      "pth=0.76,method=hindex2013,0.716667,0.334630,0.456233\n",
      "pth=0.77,method=non_2013,0.756972,0.739300,0.748031\n",
      "pth=0.77,method=hindex2013,0.724138,0.326848,0.450402\n",
      "pth=0.78,method=non_2013,0.756972,0.739300,0.748031\n",
      "pth=0.78,method=hindex2013,0.729730,0.315175,0.440217\n",
      "pth=0.79,method=non_2013,0.756972,0.739300,0.748031\n",
      "pth=0.79,method=hindex2013,0.728972,0.303502,0.428571\n",
      "pth=0.80,method=non_2013,0.756972,0.739300,0.748031\n",
      "pth=0.80,method=hindex2013,0.723810,0.295720,0.419890\n",
      "pth=0.81,method=non_2013,0.756972,0.739300,0.748031\n",
      "pth=0.81,method=hindex2013,0.707071,0.272374,0.393258\n",
      "pth=0.82,method=non_2013,0.756972,0.739300,0.748031\n",
      "pth=0.82,method=hindex2013,0.712766,0.260700,0.381766\n",
      "pth=0.83,method=non_2013,0.756972,0.739300,0.748031\n",
      "pth=0.83,method=hindex2013,0.706522,0.252918,0.372493\n",
      "pth=0.84,method=non_2013,0.756972,0.739300,0.748031\n",
      "pth=0.84,method=hindex2013,0.682353,0.225681,0.339181\n",
      "pth=0.85,method=non_2013,0.756972,0.739300,0.748031\n",
      "pth=0.85,method=hindex2013,0.675325,0.202335,0.311377\n",
      "pth=0.86,method=non_2013,0.756972,0.739300,0.748031\n",
      "pth=0.86,method=hindex2013,0.680000,0.198444,0.307229\n",
      "pth=0.87,method=non_2013,0.756972,0.739300,0.748031\n",
      "pth=0.87,method=hindex2013,0.676471,0.178988,0.283077\n",
      "pth=0.88,method=non_2013,0.756972,0.739300,0.748031\n",
      "pth=0.88,method=hindex2013,0.682540,0.167315,0.268750\n",
      "pth=0.89,method=non_2013,0.756972,0.739300,0.748031\n",
      "pth=0.89,method=hindex2013,0.684211,0.151751,0.248408\n",
      "pth=0.90,method=non_2013,0.756972,0.739300,0.748031\n",
      "pth=0.90,method=hindex2013,0.686275,0.136187,0.227273\n",
      "pth=0.91,method=non_2013,0.756972,0.739300,0.748031\n",
      "pth=0.91,method=hindex2013,0.720930,0.120623,0.206667\n",
      "pth=0.92,method=non_2013,0.756972,0.739300,0.748031\n",
      "pth=0.92,method=hindex2013,0.750000,0.105058,0.184300\n",
      "pth=0.93,method=non_2013,0.756972,0.739300,0.748031\n",
      "pth=0.93,method=hindex2013,0.689655,0.077821,0.139860\n",
      "pth=0.94,method=non_2013,0.760331,0.715953,0.737475\n",
      "pth=0.94,method=hindex2013,0.666667,0.070039,0.126761\n",
      "pth=0.95,method=non_2013,0.788889,0.552529,0.649886\n",
      "pth=0.95,method=hindex2013,0.636364,0.054475,0.100358\n",
      "pth=0.96,method=non_2013,0.795918,0.303502,0.439437\n",
      "pth=0.96,method=hindex2013,0.687500,0.042802,0.080586\n",
      "pth=0.97,method=non_2013,0.827586,0.186770,0.304762\n",
      "pth=0.97,method=hindex2013,0.692308,0.035019,0.066667\n",
      "pth=0.98,method=non_2013,0.838710,0.101167,0.180556\n",
      "pth=0.98,method=hindex2013,0.700000,0.027237,0.052434\n",
      "pth=0.99,method=non_2013,1.000000,0.027237,0.053030\n",
      "pth=0.99,method=hindex2013,0.666667,0.007782,0.015385\n"
     ]
    }
   ],
   "source": [
    "\n",
    "printPRF(test_yDic,test_probDic)\n"
   ]
  },
  {
   "cell_type": "code",
   "execution_count": 35,
   "metadata": {},
   "outputs": [
    {
     "name": "stdout",
     "output_type": "stream",
     "text": [
      "non_2013\n",
      "precision\n",
      "[0.00270142 0.00269094 0.00269097 ... 1.         1.         1.        ]\n",
      "recall\n",
      "[1.         0.99610895 0.99610895 ... 0.0077821  0.00389105 0.        ]\n",
      "hindex2013\n",
      "precision\n",
      "[0.00181032 0.00180329 0.0018033  ... 1.         1.         1.        ]\n",
      "recall\n",
      "[1.         0.99610895 0.99610895 ... 0.0077821  0.00389105 0.        ]\n"
     ]
    },
    {
     "data": {
      "image/png": "[encoded data removed]",
      "text/plain": [
       "<Figure size 576x576 with 1 Axes>"
      ]
     },
     "metadata": {
      "needs_background": "light"
     },
     "output_type": "display_data"
    }
   ],
   "source": [
    "\n",
    "drawPRCMulti(test_yDic,test_probDic)\n"
   ]
  },
  {
   "cell_type": "code",
   "execution_count": 36,
   "metadata": {},
   "outputs": [],
   "source": [
    "def drawROCMulti(yDic,probDic):\n",
    "    num_c = 24\n",
    "    linestyles = ['-','--','-.',':']\n",
    "    palette = sns.color_palette(\"colorblind\",num_c)\n",
    "    fig = plt.figure(figsize=(8,8))\n",
    "    ax = fig.add_subplot(111)\n",
    "    lw = 2\n",
    "\n",
    "    for i, name in enumerate(probDic.keys()):\n",
    "        probs = probDic[name]\n",
    "        y     = yDic[name]\n",
    "        \n",
    "        if len(set(probs)) > 2:\n",
    "            fpr, tpr, thresholds = smt.roc_curve(y, probs)\n",
    "            auc = smt.auc(fpr, tpr)\n",
    "            ax.step(fpr, tpr, color=palette[i%num_c], alpha=0.8, where='post', label=\"%s:%.3f\"%(name,auc), lw=lw*0.5, linestyle=linestyles[i%len(linestyles)])\n",
    "\n",
    "\n",
    "    ax.set_xlim([0.0, 1.0])\n",
    "    ax.set_ylim([0.0, 1.05])\n",
    "    ax.set_xlabel('False Positive Rate')\n",
    "    ax.set_ylabel('True Positive Rate')\n",
    "    ax.set_title('ROC Results')\n",
    "    handles, labels = ax.get_legend_handles_labels()\n",
    "    lgd = ax.legend(handles, labels, loc='upper left', bbox_to_anchor=(1.04,1.0))\n",
    "\n",
    "    fig.savefig(\"hindex_roc_curve_many_results.pdf\", dpi=100, bbox_extra_artists=(lgd,), bbox_inches='tight')\n",
    "#    fig.clf()\n",
    "#    plt.close()\n",
    "\n",
    "    return"
   ]
  },
  {
   "cell_type": "code",
   "execution_count": 37,
   "metadata": {},
   "outputs": [
    {
     "data": {
      "image/png": "[encoded data removed]",
      "text/plain": [
       "<Figure size 576x576 with 1 Axes>"
      ]
     },
     "metadata": {
      "needs_background": "light"
     },
     "output_type": "display_data"
    }
   ],
   "source": [
    "drawROCMulti(test_yDic,test_probDic)"
   ]
  },
  {
   "cell_type": "code",
   "execution_count": null,
   "metadata": {},
   "outputs": [],
   "source": []
  }
 ],
 "metadata": {
  "kernelspec": {
   "display_name": "Python 3",
   "language": "python",
   "name": "python3"
  },
  "language_info": {
   "codemirror_mode": {
    "name": "ipython",
    "version": 3
   },
   "file_extension": ".py",
   "mimetype": "text/x-python",
   "name": "python",
   "nbconvert_exporter": "python",
   "pygments_lexer": "ipython3",
   "version": "3.6.8"
  }
 },
 "nbformat": 4,
 "nbformat_minor": 2
}
